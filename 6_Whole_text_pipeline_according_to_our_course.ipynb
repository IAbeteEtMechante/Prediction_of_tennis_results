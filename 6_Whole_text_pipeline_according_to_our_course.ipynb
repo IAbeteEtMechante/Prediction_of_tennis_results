{
 "cells": [
  {
   "cell_type": "code",
   "execution_count": 1,
   "metadata": {},
   "outputs": [],
   "source": [
    "import pandas as pd\n",
    "df = pd.read_csv(\"./data/interviews/interviews_en.csv\")\n",
    "df_class = pd.read_csv('data/target.csv', index_col=0)\n",
    "df['Class'] = df_class['Class']"
   ]
  },
  {
   "cell_type": "code",
   "execution_count": 2,
   "metadata": {
    "scrolled": true
   },
   "outputs": [
    {
     "data": {
      "text/html": [
       "<div>\n",
       "<style scoped>\n",
       "    .dataframe tbody tr th:only-of-type {\n",
       "        vertical-align: middle;\n",
       "    }\n",
       "\n",
       "    .dataframe tbody tr th {\n",
       "        vertical-align: top;\n",
       "    }\n",
       "\n",
       "    .dataframe thead th {\n",
       "        text-align: right;\n",
       "    }\n",
       "</style>\n",
       "<table border=\"1\" class=\"dataframe\">\n",
       "  <thead>\n",
       "    <tr style=\"text-align: right;\">\n",
       "      <th></th>\n",
       "      <th>Unnamed: 0</th>\n",
       "      <th>Unnamed: 0.1</th>\n",
       "      <th>Unnamed: 0.1.1</th>\n",
       "      <th>file_name</th>\n",
       "      <th>label</th>\n",
       "      <th>text</th>\n",
       "      <th>Manually_Labeled</th>\n",
       "      <th>text_bg</th>\n",
       "      <th>Class</th>\n",
       "    </tr>\n",
       "  </thead>\n",
       "  <tbody>\n",
       "    <tr>\n",
       "      <th>0</th>\n",
       "      <td>0</td>\n",
       "      <td>0</td>\n",
       "      <td>0</td>\n",
       "      <td>BG_Box_AleksandarPovetkin_vs_AnthonyDjoshua_NO</td>\n",
       "      <td>NO</td>\n",
       "      <td>I am in very good shape, I had an excellent tr...</td>\n",
       "      <td>True</td>\n",
       "      <td>Аз съм в много добра форма, проведох отличен т...</td>\n",
       "      <td>0.0</td>\n",
       "    </tr>\n",
       "    <tr>\n",
       "      <th>1</th>\n",
       "      <td>1</td>\n",
       "      <td>1</td>\n",
       "      <td>1</td>\n",
       "      <td>BG_Box_AndiRuiz_vs_AnthonyDjoshua_YES</td>\n",
       "      <td>YES</td>\n",
       "      <td>Everyone underestimates me, but it will be a t...</td>\n",
       "      <td>True</td>\n",
       "      <td>Всички ме подценяват, но това ще бъде страшна ...</td>\n",
       "      <td>1.0</td>\n",
       "    </tr>\n",
       "    <tr>\n",
       "      <th>2</th>\n",
       "      <td>2</td>\n",
       "      <td>2</td>\n",
       "      <td>2</td>\n",
       "      <td>BG_Box_AnthonyDjoshua_vs_AleksandarPovetkin_YES</td>\n",
       "      <td>YES</td>\n",
       "      <td>Leaving aside the technique and qualities, we ...</td>\n",
       "      <td>True</td>\n",
       "      <td>Ако оставим настрана техниката и качествата, и...</td>\n",
       "      <td>1.0</td>\n",
       "    </tr>\n",
       "  </tbody>\n",
       "</table>\n",
       "</div>"
      ],
      "text/plain": [
       "   Unnamed: 0  Unnamed: 0.1  Unnamed: 0.1.1  \\\n",
       "0           0             0               0   \n",
       "1           1             1               1   \n",
       "2           2             2               2   \n",
       "\n",
       "                                         file_name label  \\\n",
       "0   BG_Box_AleksandarPovetkin_vs_AnthonyDjoshua_NO    NO   \n",
       "1            BG_Box_AndiRuiz_vs_AnthonyDjoshua_YES   YES   \n",
       "2  BG_Box_AnthonyDjoshua_vs_AleksandarPovetkin_YES   YES   \n",
       "\n",
       "                                                text  Manually_Labeled  \\\n",
       "0  I am in very good shape, I had an excellent tr...              True   \n",
       "1  Everyone underestimates me, but it will be a t...              True   \n",
       "2  Leaving aside the technique and qualities, we ...              True   \n",
       "\n",
       "                                             text_bg  Class  \n",
       "0  Аз съм в много добра форма, проведох отличен т...    0.0  \n",
       "1  Всички ме подценяват, но това ще бъде страшна ...    1.0  \n",
       "2  Ако оставим настрана техниката и качествата, и...    1.0  "
      ]
     },
     "execution_count": 2,
     "metadata": {},
     "output_type": "execute_result"
    }
   ],
   "source": [
    "df.head(3)"
   ]
  },
  {
   "cell_type": "code",
   "execution_count": 3,
   "metadata": {},
   "outputs": [
    {
     "name": "stdout",
     "output_type": "stream",
     "text": [
      "(37,)\n",
      "(13,)\n"
     ]
    }
   ],
   "source": [
    "# split X and y into training and testing sets\n",
    "from sklearn.model_selection import train_test_split\n",
    "X_train, X_test, y_train, y_test = train_test_split(df.text, df.Class, random_state=42)\n",
    "print(X_train.shape)\n",
    "print(X_test.shape)"
   ]
  },
  {
   "cell_type": "code",
   "execution_count": 4,
   "metadata": {},
   "outputs": [],
   "source": [
    "from sklearn.feature_extraction.text import CountVectorizer\n",
    "vect = CountVectorizer(min_df =1, stop_words='english' ,token_pattern=r'\\b[a-zA-Z]+\\b')"
   ]
  },
  {
   "cell_type": "code",
   "execution_count": 5,
   "metadata": {},
   "outputs": [
    {
     "data": {
      "text/plain": [
       "<37x1020 sparse matrix of type '<class 'numpy.int64'>'\n",
       "\twith 1925 stored elements in Compressed Sparse Row format>"
      ]
     },
     "execution_count": 5,
     "metadata": {},
     "output_type": "execute_result"
    }
   ],
   "source": [
    "X_train_dtm = vect.fit_transform(X_train)\n",
    "X_train_dtm"
   ]
  },
  {
   "cell_type": "code",
   "execution_count": 6,
   "metadata": {},
   "outputs": [
    {
     "data": {
      "text/plain": [
       "LogisticRegression(solver='liblinear')"
      ]
     },
     "execution_count": 6,
     "metadata": {},
     "output_type": "execute_result"
    }
   ],
   "source": [
    "from sklearn.linear_model import LogisticRegression\n",
    "logReg = LogisticRegression(solver='liblinear')\n",
    "logReg.fit(X_train_dtm,y_train)"
   ]
  },
  {
   "cell_type": "code",
   "execution_count": 7,
   "metadata": {},
   "outputs": [
    {
     "data": {
      "text/plain": [
       "<13x1020 sparse matrix of type '<class 'numpy.int64'>'\n",
       "\twith 341 stored elements in Compressed Sparse Row format>"
      ]
     },
     "execution_count": 7,
     "metadata": {},
     "output_type": "execute_result"
    }
   ],
   "source": [
    "X_test_dtm = vect.transform(X_test)\n",
    "X_test_dtm"
   ]
  },
  {
   "cell_type": "code",
   "execution_count": 8,
   "metadata": {},
   "outputs": [
    {
     "data": {
      "text/plain": [
       "<13x1020 sparse matrix of type '<class 'numpy.int64'>'\n",
       "\twith 341 stored elements in Compressed Sparse Row format>"
      ]
     },
     "execution_count": 8,
     "metadata": {},
     "output_type": "execute_result"
    }
   ],
   "source": [
    "X_test_dtm"
   ]
  },
  {
   "cell_type": "code",
   "execution_count": 9,
   "metadata": {},
   "outputs": [
    {
     "data": {
      "text/plain": [
       "0.6153846153846154"
      ]
     },
     "execution_count": 9,
     "metadata": {},
     "output_type": "execute_result"
    }
   ],
   "source": [
    "from sklearn import metrics\n",
    "y_pred_class = logReg.predict(X_test_dtm)\n",
    "metrics.accuracy_score(y_test, y_pred_class)"
   ]
  },
  {
   "cell_type": "code",
   "execution_count": 29,
   "metadata": {},
   "outputs": [
    {
     "data": {
      "text/plain": [
       "array([0., 1., 0., 0., 1., 1., 1., 0., 1., 0., 0., 0., 0.])"
      ]
     },
     "execution_count": 29,
     "metadata": {},
     "output_type": "execute_result"
    }
   ],
   "source": [
    "y_pred_class"
   ]
  },
  {
   "cell_type": "code",
   "execution_count": 31,
   "metadata": {},
   "outputs": [
    {
     "data": {
      "text/plain": [
       "\"I am in very good shape, I had an excellent training camp.\\r\\nJoshua is one of the strongest heavyweight boxers in the world.\\r\\nThat's why I'm happy to have the opportunity to be in the ring against him and I want to give the fans a nice match.\\r\\nThis meeting will show everything, Anthony is a strong boxer, but I am also strong.\\r\\nWhen I fought with Klitschko, I was weaker and in worse shape than I am now.\""
      ]
     },
     "execution_count": 31,
     "metadata": {},
     "output_type": "execute_result"
    }
   ],
   "source": [
    "df.text[0]"
   ]
  },
  {
   "cell_type": "markdown",
   "metadata": {},
   "source": [
    "if we get lucky, we can get 61% but it really depends on the split luck"
   ]
  },
  {
   "cell_type": "code",
   "execution_count": 22,
   "metadata": {},
   "outputs": [
    {
     "data": {
      "text/plain": [
       "pandas.core.series.Series"
      ]
     },
     "execution_count": 22,
     "metadata": {},
     "output_type": "execute_result"
    }
   ],
   "source": [
    "type(X_train)"
   ]
  },
  {
   "cell_type": "code",
   "execution_count": 13,
   "metadata": {
    "scrolled": false
   },
   "outputs": [
    {
     "data": {
      "text/plain": [
       "\"I am in very good shape, I had an excellent training camp.\\r\\nJoshua is one of the strongest heavyweight boxers in the world.\\r\\nThat's why I'm happy to have the opportunity to be in the ring against him and I want to give the fans a nice match.\\r\\nThis meeting will show everything, Anthony is a strong boxer, but I am also strong.\\r\\nWhen I fought with Klitschko, I was weaker and in worse shape than I am now.\""
      ]
     },
     "execution_count": 13,
     "metadata": {},
     "output_type": "execute_result"
    }
   ],
   "source": [
    "#run prediction on this\n",
    "X_sample = X_train.loc[0]\n",
    "X_sample "
   ]
  },
  {
   "cell_type": "code",
   "execution_count": 17,
   "metadata": {},
   "outputs": [],
   "source": [
    "X_sample = \"My name is Pierre\""
   ]
  },
  {
   "cell_type": "code",
   "execution_count": 26,
   "metadata": {},
   "outputs": [],
   "source": [
    "X_sample_dtm = vect.transform([X_sample])"
   ]
  },
  {
   "cell_type": "code",
   "execution_count": 27,
   "metadata": {},
   "outputs": [
    {
     "data": {
      "text/plain": [
       "1.0"
      ]
     },
     "execution_count": 27,
     "metadata": {},
     "output_type": "execute_result"
    }
   ],
   "source": [
    "result = logReg.predict(X_sample_dtm)\n",
    "result[0]"
   ]
  },
  {
   "cell_type": "code",
   "execution_count": null,
   "metadata": {},
   "outputs": [],
   "source": []
  },
  {
   "cell_type": "code",
   "execution_count": 36,
   "metadata": {},
   "outputs": [],
   "source": [
    "X_interview_list = [1,2,3]"
   ]
  },
  {
   "cell_type": "code",
   "execution_count": 38,
   "metadata": {},
   "outputs": [
    {
     "data": {
      "text/plain": [
       "[[1, 2, 3]]"
      ]
     },
     "execution_count": 38,
     "metadata": {},
     "output_type": "execute_result"
    }
   ],
   "source": [
    "X_interview = [X_interview_list]\n",
    "X_interview"
   ]
  },
  {
   "cell_type": "code",
   "execution_count": 32,
   "metadata": {},
   "outputs": [
    {
     "data": {
      "text/plain": [
       "(50, 9)"
      ]
     },
     "execution_count": 32,
     "metadata": {},
     "output_type": "execute_result"
    }
   ],
   "source": [
    "df.shape"
   ]
  },
  {
   "cell_type": "code",
   "execution_count": 34,
   "metadata": {},
   "outputs": [],
   "source": [
    "df.loc[50,'text'] = 'Pierre'"
   ]
  },
  {
   "cell_type": "code",
   "execution_count": 35,
   "metadata": {},
   "outputs": [
    {
     "data": {
      "text/html": [
       "<div>\n",
       "<style scoped>\n",
       "    .dataframe tbody tr th:only-of-type {\n",
       "        vertical-align: middle;\n",
       "    }\n",
       "\n",
       "    .dataframe tbody tr th {\n",
       "        vertical-align: top;\n",
       "    }\n",
       "\n",
       "    .dataframe thead th {\n",
       "        text-align: right;\n",
       "    }\n",
       "</style>\n",
       "<table border=\"1\" class=\"dataframe\">\n",
       "  <thead>\n",
       "    <tr style=\"text-align: right;\">\n",
       "      <th></th>\n",
       "      <th>Unnamed: 0</th>\n",
       "      <th>Unnamed: 0.1</th>\n",
       "      <th>Unnamed: 0.1.1</th>\n",
       "      <th>file_name</th>\n",
       "      <th>label</th>\n",
       "      <th>text</th>\n",
       "      <th>Manually_Labeled</th>\n",
       "      <th>text_bg</th>\n",
       "      <th>Class</th>\n",
       "    </tr>\n",
       "  </thead>\n",
       "  <tbody>\n",
       "    <tr>\n",
       "      <th>0</th>\n",
       "      <td>0.0</td>\n",
       "      <td>0.0</td>\n",
       "      <td>0.0</td>\n",
       "      <td>BG_Box_AleksandarPovetkin_vs_AnthonyDjoshua_NO</td>\n",
       "      <td>NO</td>\n",
       "      <td>I am in very good shape, I had an excellent tr...</td>\n",
       "      <td>True</td>\n",
       "      <td>Аз съм в много добра форма, проведох отличен т...</td>\n",
       "      <td>0.0</td>\n",
       "    </tr>\n",
       "    <tr>\n",
       "      <th>1</th>\n",
       "      <td>1.0</td>\n",
       "      <td>1.0</td>\n",
       "      <td>1.0</td>\n",
       "      <td>BG_Box_AndiRuiz_vs_AnthonyDjoshua_YES</td>\n",
       "      <td>YES</td>\n",
       "      <td>Everyone underestimates me, but it will be a t...</td>\n",
       "      <td>True</td>\n",
       "      <td>Всички ме подценяват, но това ще бъде страшна ...</td>\n",
       "      <td>1.0</td>\n",
       "    </tr>\n",
       "    <tr>\n",
       "      <th>2</th>\n",
       "      <td>2.0</td>\n",
       "      <td>2.0</td>\n",
       "      <td>2.0</td>\n",
       "      <td>BG_Box_AnthonyDjoshua_vs_AleksandarPovetkin_YES</td>\n",
       "      <td>YES</td>\n",
       "      <td>Leaving aside the technique and qualities, we ...</td>\n",
       "      <td>True</td>\n",
       "      <td>Ако оставим настрана техниката и качествата, и...</td>\n",
       "      <td>1.0</td>\n",
       "    </tr>\n",
       "    <tr>\n",
       "      <th>3</th>\n",
       "      <td>3.0</td>\n",
       "      <td>3.0</td>\n",
       "      <td>3.0</td>\n",
       "      <td>BG_Box_AnthonyDjoshua_vs_AndiRuiz_NO</td>\n",
       "      <td>NO</td>\n",
       "      <td>I take the match with Andy very seriously, I d...</td>\n",
       "      <td>True</td>\n",
       "      <td>Приемам мача с Анди напълно сериозно, изобщо н...</td>\n",
       "      <td>0.0</td>\n",
       "    </tr>\n",
       "    <tr>\n",
       "      <th>4</th>\n",
       "      <td>4.0</td>\n",
       "      <td>4.0</td>\n",
       "      <td>4.0</td>\n",
       "      <td>BG_Box_AntonyDjoshua_vs_VladimirKlichko_YES</td>\n",
       "      <td>YES</td>\n",
       "      <td>I was pushed to places I had never been pushed...</td>\n",
       "      <td>True</td>\n",
       "      <td>Бях изтласкан на места, където никога не съм б...</td>\n",
       "      <td>1.0</td>\n",
       "    </tr>\n",
       "    <tr>\n",
       "      <th>5</th>\n",
       "      <td>5.0</td>\n",
       "      <td>5.0</td>\n",
       "      <td>5.0</td>\n",
       "      <td>BG_Box_BogdanDinu_vs_KubratPulev_NO</td>\n",
       "      <td>NO</td>\n",
       "      <td>Great, I feel.\\r\\nWelcome to Romania and to my...</td>\n",
       "      <td>True</td>\n",
       "      <td>Чудесно се, чувствам.\\r\\nДобре дошли в Румъния...</td>\n",
       "      <td>0.0</td>\n",
       "    </tr>\n",
       "    <tr>\n",
       "      <th>6</th>\n",
       "      <td>6.0</td>\n",
       "      <td>6.0</td>\n",
       "      <td>6.0</td>\n",
       "      <td>BG_Box_CvetozarIliev_vs_GrigorSarahunan_NO</td>\n",
       "      <td>NO</td>\n",
       "      <td>Grigor is a serious opponent.\\r\\nI'm sure he's...</td>\n",
       "      <td>True</td>\n",
       "      <td>Григор е сериозен съперник.\\r\\nСигурен съм, че...</td>\n",
       "      <td>0.0</td>\n",
       "    </tr>\n",
       "    <tr>\n",
       "      <th>7</th>\n",
       "      <td>7.0</td>\n",
       "      <td>7.0</td>\n",
       "      <td>7.0</td>\n",
       "      <td>BG_Box_DerekChisora_vs_KubratPulev_NO</td>\n",
       "      <td>NO</td>\n",
       "      <td>I'm coming to kill this man.\\r\\nNothing happen...</td>\n",
       "      <td>True</td>\n",
       "      <td>Идвам, за да убия този човек.\\r\\nНищо не се сл...</td>\n",
       "      <td>0.0</td>\n",
       "    </tr>\n",
       "    <tr>\n",
       "      <th>8</th>\n",
       "      <td>8.0</td>\n",
       "      <td>8.0</td>\n",
       "      <td>8.0</td>\n",
       "      <td>BG_Box_HuiFury_vs_KubratPulev_NO</td>\n",
       "      <td>NO</td>\n",
       "      <td>I look forward to the battle with Kubrat Pulev...</td>\n",
       "      <td>True</td>\n",
       "      <td>С нетърпение очаквам битката с Кубрат Пулев.\\r...</td>\n",
       "      <td>0.0</td>\n",
       "    </tr>\n",
       "    <tr>\n",
       "      <th>9</th>\n",
       "      <td>9.0</td>\n",
       "      <td>9.0</td>\n",
       "      <td>9.0</td>\n",
       "      <td>BG_Box_KevinDjonson_vs_KubratPulev_NO</td>\n",
       "      <td>NO</td>\n",
       "      <td>My last match was about two months ago in the ...</td>\n",
       "      <td>True</td>\n",
       "      <td>Последният ми двубой беше преди около два месе...</td>\n",
       "      <td>0.0</td>\n",
       "    </tr>\n",
       "    <tr>\n",
       "      <th>10</th>\n",
       "      <td>10.0</td>\n",
       "      <td>10.0</td>\n",
       "      <td>10.0</td>\n",
       "      <td>BG_Box_KubratPulev_vs_BogdanDinu_YES</td>\n",
       "      <td>YES</td>\n",
       "      <td>I remember being a Romanian.\\r\\nI would love i...</td>\n",
       "      <td>True</td>\n",
       "      <td>Помня, че бих един румънец.\\r\\nБих го хубаво и...</td>\n",
       "      <td>1.0</td>\n",
       "    </tr>\n",
       "    <tr>\n",
       "      <th>11</th>\n",
       "      <td>11.0</td>\n",
       "      <td>11.0</td>\n",
       "      <td>11.0</td>\n",
       "      <td>BG_Box_KubratPulev_vs_DerekChisora_YES</td>\n",
       "      <td>YES</td>\n",
       "      <td>I wish the Bulgarians to be with me and to sha...</td>\n",
       "      <td>True</td>\n",
       "      <td>Пожелавам българите да са с мен и да ми стиска...</td>\n",
       "      <td>1.0</td>\n",
       "    </tr>\n",
       "    <tr>\n",
       "      <th>12</th>\n",
       "      <td>12.0</td>\n",
       "      <td>12.0</td>\n",
       "      <td>12.0</td>\n",
       "      <td>BG_Box_KubratPulev_vs_HuiFury_YES</td>\n",
       "      <td>YES</td>\n",
       "      <td>It is important to be focused and focused in w...</td>\n",
       "      <td>True</td>\n",
       "      <td>Важно е да си концентриран и целенасочен в тов...</td>\n",
       "      <td>1.0</td>\n",
       "    </tr>\n",
       "    <tr>\n",
       "      <th>13</th>\n",
       "      <td>13.0</td>\n",
       "      <td>13.0</td>\n",
       "      <td>13.0</td>\n",
       "      <td>BG_Box_KubratPulev_vs_KevinDjonson_YES</td>\n",
       "      <td>YES</td>\n",
       "      <td>My status as a favorite does not affect me, I ...</td>\n",
       "      <td>True</td>\n",
       "      <td>Статутът ми на фаворит не ми влияе, почти няма...</td>\n",
       "      <td>1.0</td>\n",
       "    </tr>\n",
       "    <tr>\n",
       "      <th>14</th>\n",
       "      <td>14.0</td>\n",
       "      <td>14.0</td>\n",
       "      <td>14.0</td>\n",
       "      <td>BG_Box_KubratPulev_vs_MorisHaris_YES</td>\n",
       "      <td>YES</td>\n",
       "      <td>Is good.\\r\\nHe has matches and is experienced....</td>\n",
       "      <td>True</td>\n",
       "      <td>Добър е.\\r\\nИма мачове и е опитен.\\r\\nАз обаче...</td>\n",
       "      <td>1.0</td>\n",
       "    </tr>\n",
       "    <tr>\n",
       "      <th>15</th>\n",
       "      <td>15.0</td>\n",
       "      <td>15.0</td>\n",
       "      <td>15.0</td>\n",
       "      <td>BG_Box_KubratPulev_vs_TonyTompson_YES</td>\n",
       "      <td>YES</td>\n",
       "      <td>Well, yes, we are glad that things are already...</td>\n",
       "      <td>True</td>\n",
       "      <td>Ами да, радваме се, че нещата вече са официалн...</td>\n",
       "      <td>1.0</td>\n",
       "    </tr>\n",
       "    <tr>\n",
       "      <th>16</th>\n",
       "      <td>16.0</td>\n",
       "      <td>16.0</td>\n",
       "      <td>16.0</td>\n",
       "      <td>BG_Box_KubratPulev_vs_WladimirKlitschko_NO</td>\n",
       "      <td>NO</td>\n",
       "      <td>I don't think I'm an outsider in this match.\\r...</td>\n",
       "      <td>True</td>\n",
       "      <td>Не мисля, че съм аутсайдер в този двубой.\\r\\nМ...</td>\n",
       "      <td>0.0</td>\n",
       "    </tr>\n",
       "    <tr>\n",
       "      <th>17</th>\n",
       "      <td>17.0</td>\n",
       "      <td>17.0</td>\n",
       "      <td>17.0</td>\n",
       "      <td>BG_Box_TaysonFury_vs_FranceskoPianeta_YES</td>\n",
       "      <td>YES</td>\n",
       "      <td>I know him, he is big and strong, he has fough...</td>\n",
       "      <td>True</td>\n",
       "      <td>Познавам го, голям и здрав е, бил се е с добри...</td>\n",
       "      <td>1.0</td>\n",
       "    </tr>\n",
       "    <tr>\n",
       "      <th>18</th>\n",
       "      <td>18.0</td>\n",
       "      <td>18.0</td>\n",
       "      <td>18.0</td>\n",
       "      <td>BG_Box_TervelPulev_vs_LeonardoBrusseze_YES</td>\n",
       "      <td>YES</td>\n",
       "      <td>The match is knocking on the door, the prepara...</td>\n",
       "      <td>True</td>\n",
       "      <td>Мачът чука на вратата, подготовката тече усиле...</td>\n",
       "      <td>1.0</td>\n",
       "    </tr>\n",
       "    <tr>\n",
       "      <th>19</th>\n",
       "      <td>19.0</td>\n",
       "      <td>19.0</td>\n",
       "      <td>19.0</td>\n",
       "      <td>BG_Box_WladimirKlichko_vs_AnthonyDjoshua_NO</td>\n",
       "      <td>NO</td>\n",
       "      <td>I can promise you many things, but the truth i...</td>\n",
       "      <td>True</td>\n",
       "      <td>Мога да ви обещая много неща, но истината е, ч...</td>\n",
       "      <td>0.0</td>\n",
       "    </tr>\n",
       "    <tr>\n",
       "      <th>20</th>\n",
       "      <td>20.0</td>\n",
       "      <td>20.0</td>\n",
       "      <td>20.0</td>\n",
       "      <td>BG_Box_WladimirKlitschko_vs_KubratPulev_YES</td>\n",
       "      <td>YES</td>\n",
       "      <td>The training camp was almost over, I only had ...</td>\n",
       "      <td>False</td>\n",
       "      <td>Тренировъчният лагер почти беше свършил, остав...</td>\n",
       "      <td>1.0</td>\n",
       "    </tr>\n",
       "    <tr>\n",
       "      <th>21</th>\n",
       "      <td>21.0</td>\n",
       "      <td>21.0</td>\n",
       "      <td>21.0</td>\n",
       "      <td>BG_MMA_AnitaDoganova_vs_AleksandraToncheva_NO</td>\n",
       "      <td>NO</td>\n",
       "      <td>I am friends with children rather than strict ...</td>\n",
       "      <td>True</td>\n",
       "      <td>С децата съм по-скоро приятел, отколкото строг...</td>\n",
       "      <td>0.0</td>\n",
       "    </tr>\n",
       "    <tr>\n",
       "      <th>22</th>\n",
       "      <td>22.0</td>\n",
       "      <td>22.0</td>\n",
       "      <td>22.0</td>\n",
       "      <td>BG_MMA_BlagoiIvanov_vs_BenRotuel_YES</td>\n",
       "      <td>YES</td>\n",
       "      <td>I feel good.\\r\\nI am well prepared for this ma...</td>\n",
       "      <td>True</td>\n",
       "      <td>Чувствам се добре.\\r\\nПодготвен съм отлично за...</td>\n",
       "      <td>1.0</td>\n",
       "    </tr>\n",
       "    <tr>\n",
       "      <th>23</th>\n",
       "      <td>23.0</td>\n",
       "      <td>23.0</td>\n",
       "      <td>23.0</td>\n",
       "      <td>BG_MMA_DanielZlatkov_vs_AtanasMihaylov_YES</td>\n",
       "      <td>YES</td>\n",
       "      <td>Two days ago I had an unpleasant accident on t...</td>\n",
       "      <td>True</td>\n",
       "      <td>Преди два дни имах неприятен инцидент на автом...</td>\n",
       "      <td>1.0</td>\n",
       "    </tr>\n",
       "    <tr>\n",
       "      <th>24</th>\n",
       "      <td>24.0</td>\n",
       "      <td>24.0</td>\n",
       "      <td>24.0</td>\n",
       "      <td>BG_MMA_DeyanTopalski_vs_MuslimSalihov_NO</td>\n",
       "      <td>NO</td>\n",
       "      <td>Hello.\\nIt is time to thank Mr. Lyuben Dzhubri...</td>\n",
       "      <td>False</td>\n",
       "      <td>Здравейте.\\r\\nТук е момента да благодаря на го...</td>\n",
       "      <td>0.0</td>\n",
       "    </tr>\n",
       "    <tr>\n",
       "      <th>25</th>\n",
       "      <td>25.0</td>\n",
       "      <td>25.0</td>\n",
       "      <td>25.0</td>\n",
       "      <td>BG_MMA_SvetlozarSavov_vs_PiotrStrus_NO</td>\n",
       "      <td>NO</td>\n",
       "      <td>I am happy to be able to participate in such a...</td>\n",
       "      <td>True</td>\n",
       "      <td>Щастлив съм, че мога да участвам в такава голя...</td>\n",
       "      <td>0.0</td>\n",
       "    </tr>\n",
       "    <tr>\n",
       "      <th>26</th>\n",
       "      <td>26.0</td>\n",
       "      <td>26.0</td>\n",
       "      <td>26.0</td>\n",
       "      <td>BG_Tennis_AndyMury_vs_GrigorDimitrov_YES</td>\n",
       "      <td>YES</td>\n",
       "      <td>And the greatest tennis players in the world h...</td>\n",
       "      <td>True</td>\n",
       "      <td>И на най-великите тенисисти в света се случва ...</td>\n",
       "      <td>1.0</td>\n",
       "    </tr>\n",
       "    <tr>\n",
       "      <th>27</th>\n",
       "      <td>27.0</td>\n",
       "      <td>27.0</td>\n",
       "      <td>27.0</td>\n",
       "      <td>BG_Tennis_CvetanaPironkova_vs_CarolineWozniack...</td>\n",
       "      <td>NO</td>\n",
       "      <td>I feel in shape right now.\\r\\nI gained matches...</td>\n",
       "      <td>True</td>\n",
       "      <td>В момента се чувствам във форма.\\r\\nНатрупах м...</td>\n",
       "      <td>0.0</td>\n",
       "    </tr>\n",
       "    <tr>\n",
       "      <th>28</th>\n",
       "      <td>28.0</td>\n",
       "      <td>28.0</td>\n",
       "      <td>28.0</td>\n",
       "      <td>BG_Tennis_DavidGofen_vs_GrigorDimitrov_NO</td>\n",
       "      <td>NO</td>\n",
       "      <td>Recently, Grigor and I often play against each...</td>\n",
       "      <td>True</td>\n",
       "      <td>С Григор напоследък играем често един срещу др...</td>\n",
       "      <td>0.0</td>\n",
       "    </tr>\n",
       "    <tr>\n",
       "      <th>29</th>\n",
       "      <td>29.0</td>\n",
       "      <td>29.0</td>\n",
       "      <td>29.0</td>\n",
       "      <td>BG_Tennis_DominicThiem_vs_GrigorDimitrov_NO</td>\n",
       "      <td>NO</td>\n",
       "      <td>It will be fun on Monday.\\r\\nHe had a great se...</td>\n",
       "      <td>True</td>\n",
       "      <td>Ще бъде забавно в понеделник.\\r\\nТой направи с...</td>\n",
       "      <td>0.0</td>\n",
       "    </tr>\n",
       "    <tr>\n",
       "      <th>30</th>\n",
       "      <td>30.0</td>\n",
       "      <td>30.0</td>\n",
       "      <td>30.0</td>\n",
       "      <td>BG_Tennis_FabioFonini_vs_GrigorDimitrov_YES</td>\n",
       "      <td>YES</td>\n",
       "      <td>In Monte Carlo I played a good match against D...</td>\n",
       "      <td>True</td>\n",
       "      <td>В Монте Карло изиграх добър мач срещу Димитров...</td>\n",
       "      <td>1.0</td>\n",
       "    </tr>\n",
       "    <tr>\n",
       "      <th>31</th>\n",
       "      <td>31.0</td>\n",
       "      <td>31.0</td>\n",
       "      <td>31.0</td>\n",
       "      <td>BG_Tennis_GrigorDimitrov_vs_DavidGofen_YES</td>\n",
       "      <td>YES</td>\n",
       "      <td>This is something big not only for me, but for...</td>\n",
       "      <td>True</td>\n",
       "      <td>Това е нещо голямо не само за мен, а за цяла Б...</td>\n",
       "      <td>1.0</td>\n",
       "    </tr>\n",
       "    <tr>\n",
       "      <th>32</th>\n",
       "      <td>32.0</td>\n",
       "      <td>32.0</td>\n",
       "      <td>32.0</td>\n",
       "      <td>BG_Tennis_GrigorDimitrov_vs_GaelMontfis_YES</td>\n",
       "      <td>YES</td>\n",
       "      <td>I had good matches, but I also missed opportun...</td>\n",
       "      <td>True</td>\n",
       "      <td>Имах добри мачове, но и пропуснах възможности....</td>\n",
       "      <td>1.0</td>\n",
       "    </tr>\n",
       "    <tr>\n",
       "      <th>33</th>\n",
       "      <td>33.0</td>\n",
       "      <td>33.0</td>\n",
       "      <td>33.0</td>\n",
       "      <td>BG_Tennis_GrigorDimitrov_vs_Jerzy Janowicz_YES</td>\n",
       "      <td>YES</td>\n",
       "      <td>I am excited.\\r\\nI expect to go out in front o...</td>\n",
       "      <td>True</td>\n",
       "      <td>Вълнувам се.\\r\\nОчаквам да изляза пред родна п...</td>\n",
       "      <td>1.0</td>\n",
       "    </tr>\n",
       "    <tr>\n",
       "      <th>34</th>\n",
       "      <td>34.0</td>\n",
       "      <td>34.0</td>\n",
       "      <td>34.0</td>\n",
       "      <td>BG_Tennis_GrigorDimitrov_vs_MarcosBagdatis_YES</td>\n",
       "      <td>YES</td>\n",
       "      <td>I know him very well.\\r\\nWe've played a few ti...</td>\n",
       "      <td>True</td>\n",
       "      <td>Познавам го много добре.\\r\\nИграли сме няколко...</td>\n",
       "      <td>1.0</td>\n",
       "    </tr>\n",
       "    <tr>\n",
       "      <th>35</th>\n",
       "      <td>35.0</td>\n",
       "      <td>35.0</td>\n",
       "      <td>35.0</td>\n",
       "      <td>BG_Tennis_GrigorDimitrov_vs_NikolasBasilashvil...</td>\n",
       "      <td>YES</td>\n",
       "      <td>I have to expect everything.\\r\\nI have no righ...</td>\n",
       "      <td>True</td>\n",
       "      <td>Трябва да очаквам всичко.\\r\\nНямам право да го...</td>\n",
       "      <td>1.0</td>\n",
       "    </tr>\n",
       "    <tr>\n",
       "      <th>36</th>\n",
       "      <td>36.0</td>\n",
       "      <td>36.0</td>\n",
       "      <td>36.0</td>\n",
       "      <td>BG_Tennis_GrigorDimitrov_vs_RogerFederer_NO</td>\n",
       "      <td>NO</td>\n",
       "      <td>I can't judge whether Dudi Sela was injured at...</td>\n",
       "      <td>True</td>\n",
       "      <td>Не мога да преценя дали в началото на мача Дуд...</td>\n",
       "      <td>0.0</td>\n",
       "    </tr>\n",
       "    <tr>\n",
       "      <th>37</th>\n",
       "      <td>37.0</td>\n",
       "      <td>37.0</td>\n",
       "      <td>37.0</td>\n",
       "      <td>BG_Tennis_GrigorDimitrov_vs_StanWawrinka_NO</td>\n",
       "      <td>NO</td>\n",
       "      <td>Now I appreciate and rejoice in every victory ...</td>\n",
       "      <td>True</td>\n",
       "      <td>Сега оценявам и се радвам на всяка една победа...</td>\n",
       "      <td>0.0</td>\n",
       "    </tr>\n",
       "    <tr>\n",
       "      <th>38</th>\n",
       "      <td>38.0</td>\n",
       "      <td>38.0</td>\n",
       "      <td>38.0</td>\n",
       "      <td>BG_Tennis_GrigorDimitrov_vs_TommyRobredo_YES</td>\n",
       "      <td>YES</td>\n",
       "      <td>He is a veteran, he will use everything he has...</td>\n",
       "      <td>True</td>\n",
       "      <td>Ветеран е, ще използва всичко, което има в игр...</td>\n",
       "      <td>1.0</td>\n",
       "    </tr>\n",
       "    <tr>\n",
       "      <th>39</th>\n",
       "      <td>39.0</td>\n",
       "      <td>39.0</td>\n",
       "      <td>39.0</td>\n",
       "      <td>BG_Tennis_GrigorDimitrov_vs_ViktorTroicky_YES</td>\n",
       "      <td>YES</td>\n",
       "      <td>You have to be prepared in every match.\\r\\nEac...</td>\n",
       "      <td>True</td>\n",
       "      <td>Във всеки един мач трябва да си подготвен.\\r\\n...</td>\n",
       "      <td>1.0</td>\n",
       "    </tr>\n",
       "    <tr>\n",
       "      <th>40</th>\n",
       "      <td>40.0</td>\n",
       "      <td>40.0</td>\n",
       "      <td>40.0</td>\n",
       "      <td>BG_Tennis_MariaSharapova_vs_CvetanaPironkova_YES</td>\n",
       "      <td>YES</td>\n",
       "      <td>Pironkova is very experienced, especially on g...</td>\n",
       "      <td>True</td>\n",
       "      <td>Пиронкова е много опитна, особено на трева.\\r\\...</td>\n",
       "      <td>1.0</td>\n",
       "    </tr>\n",
       "    <tr>\n",
       "      <th>41</th>\n",
       "      <td>41.0</td>\n",
       "      <td>41.0</td>\n",
       "      <td>41.0</td>\n",
       "      <td>BG_Tennis_MarioCilic_vs_GrigorDimitrov_NO</td>\n",
       "      <td>NO</td>\n",
       "      <td>The feeling is good.\\r\\nI feel like I generall...</td>\n",
       "      <td>True</td>\n",
       "      <td>Чувството е добро.\\r\\nУсещам, че общо взето иг...</td>\n",
       "      <td>0.0</td>\n",
       "    </tr>\n",
       "    <tr>\n",
       "      <th>42</th>\n",
       "      <td>42.0</td>\n",
       "      <td>42.0</td>\n",
       "      <td>42.0</td>\n",
       "      <td>BG_Tennis_NikolasBasilashvili_vs_GrigorDimitro...</td>\n",
       "      <td>NO</td>\n",
       "      <td>It will be a difficult match because Dimitrov ...</td>\n",
       "      <td>True</td>\n",
       "      <td>Ще бъде труден двубой, защото Димитров е в мно...</td>\n",
       "      <td>0.0</td>\n",
       "    </tr>\n",
       "    <tr>\n",
       "      <th>43</th>\n",
       "      <td>43.0</td>\n",
       "      <td>43.0</td>\n",
       "      <td>43.0</td>\n",
       "      <td>BG_Tennis_NovakDjokovic_vs_RafaelNadal_YES</td>\n",
       "      <td>YES</td>\n",
       "      <td>It was one of my strongest matches in Australi...</td>\n",
       "      <td>True</td>\n",
       "      <td>Това беше един от най-силните ми мачове в Авст...</td>\n",
       "      <td>1.0</td>\n",
       "    </tr>\n",
       "    <tr>\n",
       "      <th>44</th>\n",
       "      <td>44.0</td>\n",
       "      <td>44.0</td>\n",
       "      <td>44.0</td>\n",
       "      <td>BG_Tennis_RafaelNadal_vs_GrigorDimitrov_YES</td>\n",
       "      <td>YES</td>\n",
       "      <td>I can't say that I have regained my shape.\\r\\n...</td>\n",
       "      <td>True</td>\n",
       "      <td>Не мога да кажа, че съм възвърнал формата си.\\...</td>\n",
       "      <td>1.0</td>\n",
       "    </tr>\n",
       "    <tr>\n",
       "      <th>45</th>\n",
       "      <td>45.0</td>\n",
       "      <td>45.0</td>\n",
       "      <td>45.0</td>\n",
       "      <td>BG_Tennis_RogerFederer_vs_DominicThiem_NO</td>\n",
       "      <td>NO</td>\n",
       "      <td>He can't help but score every ball on the cour...</td>\n",
       "      <td>True</td>\n",
       "      <td>Той няма как да не вкара всяка топка в корта в...</td>\n",
       "      <td>0.0</td>\n",
       "    </tr>\n",
       "    <tr>\n",
       "      <th>46</th>\n",
       "      <td>46.0</td>\n",
       "      <td>46.0</td>\n",
       "      <td>46.0</td>\n",
       "      <td>BG_Tennis_RogerFederer_vs_GrigorDimitrov_YES</td>\n",
       "      <td>YES</td>\n",
       "      <td>Every time we play, Grigor is even stronger th...</td>\n",
       "      <td>True</td>\n",
       "      <td>Всеки път когато играем, Григор е още по-силен...</td>\n",
       "      <td>1.0</td>\n",
       "    </tr>\n",
       "    <tr>\n",
       "      <th>47</th>\n",
       "      <td>47.0</td>\n",
       "      <td>47.0</td>\n",
       "      <td>47.0</td>\n",
       "      <td>BG_Tennis_StanWawrinka_vs_GrigorDimitrov_YES</td>\n",
       "      <td>YES</td>\n",
       "      <td>I know how well I can play.\\r\\nI am pleased wi...</td>\n",
       "      <td>True</td>\n",
       "      <td>Знам колко добре мога да играя.\\r\\nДоволен съм...</td>\n",
       "      <td>1.0</td>\n",
       "    </tr>\n",
       "    <tr>\n",
       "      <th>48</th>\n",
       "      <td>48.0</td>\n",
       "      <td>48.0</td>\n",
       "      <td>48.0</td>\n",
       "      <td>BG_Tennis_StefanosCicipas_vs_RafaelNadal_NO</td>\n",
       "      <td>NO</td>\n",
       "      <td>I've watched at least a million of his clay co...</td>\n",
       "      <td>True</td>\n",
       "      <td>Гледал съм поне един милион негови мачове на к...</td>\n",
       "      <td>0.0</td>\n",
       "    </tr>\n",
       "    <tr>\n",
       "      <th>49</th>\n",
       "      <td>49.0</td>\n",
       "      <td>49.0</td>\n",
       "      <td>49.0</td>\n",
       "      <td>BG_Tennis_TommyRobredo_vs_GrigorDimitrov_NO</td>\n",
       "      <td>NO</td>\n",
       "      <td>I will be ready for anything Grigor offers me....</td>\n",
       "      <td>True</td>\n",
       "      <td>Ще съм готов каквото и да ми предложи Григор.\\...</td>\n",
       "      <td>0.0</td>\n",
       "    </tr>\n",
       "    <tr>\n",
       "      <th>50</th>\n",
       "      <td>NaN</td>\n",
       "      <td>NaN</td>\n",
       "      <td>NaN</td>\n",
       "      <td>NaN</td>\n",
       "      <td>NaN</td>\n",
       "      <td>Pierre</td>\n",
       "      <td>NaN</td>\n",
       "      <td>NaN</td>\n",
       "      <td>NaN</td>\n",
       "    </tr>\n",
       "  </tbody>\n",
       "</table>\n",
       "</div>"
      ],
      "text/plain": [
       "    Unnamed: 0  Unnamed: 0.1  Unnamed: 0.1.1  \\\n",
       "0          0.0           0.0             0.0   \n",
       "1          1.0           1.0             1.0   \n",
       "2          2.0           2.0             2.0   \n",
       "3          3.0           3.0             3.0   \n",
       "4          4.0           4.0             4.0   \n",
       "5          5.0           5.0             5.0   \n",
       "6          6.0           6.0             6.0   \n",
       "7          7.0           7.0             7.0   \n",
       "8          8.0           8.0             8.0   \n",
       "9          9.0           9.0             9.0   \n",
       "10        10.0          10.0            10.0   \n",
       "11        11.0          11.0            11.0   \n",
       "12        12.0          12.0            12.0   \n",
       "13        13.0          13.0            13.0   \n",
       "14        14.0          14.0            14.0   \n",
       "15        15.0          15.0            15.0   \n",
       "16        16.0          16.0            16.0   \n",
       "17        17.0          17.0            17.0   \n",
       "18        18.0          18.0            18.0   \n",
       "19        19.0          19.0            19.0   \n",
       "20        20.0          20.0            20.0   \n",
       "21        21.0          21.0            21.0   \n",
       "22        22.0          22.0            22.0   \n",
       "23        23.0          23.0            23.0   \n",
       "24        24.0          24.0            24.0   \n",
       "25        25.0          25.0            25.0   \n",
       "26        26.0          26.0            26.0   \n",
       "27        27.0          27.0            27.0   \n",
       "28        28.0          28.0            28.0   \n",
       "29        29.0          29.0            29.0   \n",
       "30        30.0          30.0            30.0   \n",
       "31        31.0          31.0            31.0   \n",
       "32        32.0          32.0            32.0   \n",
       "33        33.0          33.0            33.0   \n",
       "34        34.0          34.0            34.0   \n",
       "35        35.0          35.0            35.0   \n",
       "36        36.0          36.0            36.0   \n",
       "37        37.0          37.0            37.0   \n",
       "38        38.0          38.0            38.0   \n",
       "39        39.0          39.0            39.0   \n",
       "40        40.0          40.0            40.0   \n",
       "41        41.0          41.0            41.0   \n",
       "42        42.0          42.0            42.0   \n",
       "43        43.0          43.0            43.0   \n",
       "44        44.0          44.0            44.0   \n",
       "45        45.0          45.0            45.0   \n",
       "46        46.0          46.0            46.0   \n",
       "47        47.0          47.0            47.0   \n",
       "48        48.0          48.0            48.0   \n",
       "49        49.0          49.0            49.0   \n",
       "50         NaN           NaN             NaN   \n",
       "\n",
       "                                            file_name label  \\\n",
       "0      BG_Box_AleksandarPovetkin_vs_AnthonyDjoshua_NO    NO   \n",
       "1               BG_Box_AndiRuiz_vs_AnthonyDjoshua_YES   YES   \n",
       "2     BG_Box_AnthonyDjoshua_vs_AleksandarPovetkin_YES   YES   \n",
       "3                BG_Box_AnthonyDjoshua_vs_AndiRuiz_NO    NO   \n",
       "4         BG_Box_AntonyDjoshua_vs_VladimirKlichko_YES   YES   \n",
       "5                 BG_Box_BogdanDinu_vs_KubratPulev_NO    NO   \n",
       "6          BG_Box_CvetozarIliev_vs_GrigorSarahunan_NO    NO   \n",
       "7               BG_Box_DerekChisora_vs_KubratPulev_NO    NO   \n",
       "8                    BG_Box_HuiFury_vs_KubratPulev_NO    NO   \n",
       "9               BG_Box_KevinDjonson_vs_KubratPulev_NO    NO   \n",
       "10               BG_Box_KubratPulev_vs_BogdanDinu_YES   YES   \n",
       "11             BG_Box_KubratPulev_vs_DerekChisora_YES   YES   \n",
       "12                  BG_Box_KubratPulev_vs_HuiFury_YES   YES   \n",
       "13             BG_Box_KubratPulev_vs_KevinDjonson_YES   YES   \n",
       "14               BG_Box_KubratPulev_vs_MorisHaris_YES   YES   \n",
       "15              BG_Box_KubratPulev_vs_TonyTompson_YES   YES   \n",
       "16         BG_Box_KubratPulev_vs_WladimirKlitschko_NO    NO   \n",
       "17          BG_Box_TaysonFury_vs_FranceskoPianeta_YES   YES   \n",
       "18         BG_Box_TervelPulev_vs_LeonardoBrusseze_YES   YES   \n",
       "19        BG_Box_WladimirKlichko_vs_AnthonyDjoshua_NO    NO   \n",
       "20        BG_Box_WladimirKlitschko_vs_KubratPulev_YES   YES   \n",
       "21      BG_MMA_AnitaDoganova_vs_AleksandraToncheva_NO    NO   \n",
       "22               BG_MMA_BlagoiIvanov_vs_BenRotuel_YES   YES   \n",
       "23         BG_MMA_DanielZlatkov_vs_AtanasMihaylov_YES   YES   \n",
       "24           BG_MMA_DeyanTopalski_vs_MuslimSalihov_NO    NO   \n",
       "25             BG_MMA_SvetlozarSavov_vs_PiotrStrus_NO    NO   \n",
       "26           BG_Tennis_AndyMury_vs_GrigorDimitrov_YES   YES   \n",
       "27  BG_Tennis_CvetanaPironkova_vs_CarolineWozniack...    NO   \n",
       "28          BG_Tennis_DavidGofen_vs_GrigorDimitrov_NO    NO   \n",
       "29        BG_Tennis_DominicThiem_vs_GrigorDimitrov_NO    NO   \n",
       "30        BG_Tennis_FabioFonini_vs_GrigorDimitrov_YES   YES   \n",
       "31         BG_Tennis_GrigorDimitrov_vs_DavidGofen_YES   YES   \n",
       "32        BG_Tennis_GrigorDimitrov_vs_GaelMontfis_YES   YES   \n",
       "33     BG_Tennis_GrigorDimitrov_vs_Jerzy Janowicz_YES   YES   \n",
       "34     BG_Tennis_GrigorDimitrov_vs_MarcosBagdatis_YES   YES   \n",
       "35  BG_Tennis_GrigorDimitrov_vs_NikolasBasilashvil...   YES   \n",
       "36        BG_Tennis_GrigorDimitrov_vs_RogerFederer_NO    NO   \n",
       "37        BG_Tennis_GrigorDimitrov_vs_StanWawrinka_NO    NO   \n",
       "38       BG_Tennis_GrigorDimitrov_vs_TommyRobredo_YES   YES   \n",
       "39      BG_Tennis_GrigorDimitrov_vs_ViktorTroicky_YES   YES   \n",
       "40   BG_Tennis_MariaSharapova_vs_CvetanaPironkova_YES   YES   \n",
       "41          BG_Tennis_MarioCilic_vs_GrigorDimitrov_NO    NO   \n",
       "42  BG_Tennis_NikolasBasilashvili_vs_GrigorDimitro...    NO   \n",
       "43         BG_Tennis_NovakDjokovic_vs_RafaelNadal_YES   YES   \n",
       "44        BG_Tennis_RafaelNadal_vs_GrigorDimitrov_YES   YES   \n",
       "45          BG_Tennis_RogerFederer_vs_DominicThiem_NO    NO   \n",
       "46       BG_Tennis_RogerFederer_vs_GrigorDimitrov_YES   YES   \n",
       "47       BG_Tennis_StanWawrinka_vs_GrigorDimitrov_YES   YES   \n",
       "48        BG_Tennis_StefanosCicipas_vs_RafaelNadal_NO    NO   \n",
       "49        BG_Tennis_TommyRobredo_vs_GrigorDimitrov_NO    NO   \n",
       "50                                                NaN   NaN   \n",
       "\n",
       "                                                 text Manually_Labeled  \\\n",
       "0   I am in very good shape, I had an excellent tr...             True   \n",
       "1   Everyone underestimates me, but it will be a t...             True   \n",
       "2   Leaving aside the technique and qualities, we ...             True   \n",
       "3   I take the match with Andy very seriously, I d...             True   \n",
       "4   I was pushed to places I had never been pushed...             True   \n",
       "5   Great, I feel.\\r\\nWelcome to Romania and to my...             True   \n",
       "6   Grigor is a serious opponent.\\r\\nI'm sure he's...             True   \n",
       "7   I'm coming to kill this man.\\r\\nNothing happen...             True   \n",
       "8   I look forward to the battle with Kubrat Pulev...             True   \n",
       "9   My last match was about two months ago in the ...             True   \n",
       "10  I remember being a Romanian.\\r\\nI would love i...             True   \n",
       "11  I wish the Bulgarians to be with me and to sha...             True   \n",
       "12  It is important to be focused and focused in w...             True   \n",
       "13  My status as a favorite does not affect me, I ...             True   \n",
       "14  Is good.\\r\\nHe has matches and is experienced....             True   \n",
       "15  Well, yes, we are glad that things are already...             True   \n",
       "16  I don't think I'm an outsider in this match.\\r...             True   \n",
       "17  I know him, he is big and strong, he has fough...             True   \n",
       "18  The match is knocking on the door, the prepara...             True   \n",
       "19  I can promise you many things, but the truth i...             True   \n",
       "20  The training camp was almost over, I only had ...            False   \n",
       "21  I am friends with children rather than strict ...             True   \n",
       "22  I feel good.\\r\\nI am well prepared for this ma...             True   \n",
       "23  Two days ago I had an unpleasant accident on t...             True   \n",
       "24  Hello.\\nIt is time to thank Mr. Lyuben Dzhubri...            False   \n",
       "25  I am happy to be able to participate in such a...             True   \n",
       "26  And the greatest tennis players in the world h...             True   \n",
       "27  I feel in shape right now.\\r\\nI gained matches...             True   \n",
       "28  Recently, Grigor and I often play against each...             True   \n",
       "29  It will be fun on Monday.\\r\\nHe had a great se...             True   \n",
       "30  In Monte Carlo I played a good match against D...             True   \n",
       "31  This is something big not only for me, but for...             True   \n",
       "32  I had good matches, but I also missed opportun...             True   \n",
       "33  I am excited.\\r\\nI expect to go out in front o...             True   \n",
       "34  I know him very well.\\r\\nWe've played a few ti...             True   \n",
       "35  I have to expect everything.\\r\\nI have no righ...             True   \n",
       "36  I can't judge whether Dudi Sela was injured at...             True   \n",
       "37  Now I appreciate and rejoice in every victory ...             True   \n",
       "38  He is a veteran, he will use everything he has...             True   \n",
       "39  You have to be prepared in every match.\\r\\nEac...             True   \n",
       "40  Pironkova is very experienced, especially on g...             True   \n",
       "41  The feeling is good.\\r\\nI feel like I generall...             True   \n",
       "42  It will be a difficult match because Dimitrov ...             True   \n",
       "43  It was one of my strongest matches in Australi...             True   \n",
       "44  I can't say that I have regained my shape.\\r\\n...             True   \n",
       "45  He can't help but score every ball on the cour...             True   \n",
       "46  Every time we play, Grigor is even stronger th...             True   \n",
       "47  I know how well I can play.\\r\\nI am pleased wi...             True   \n",
       "48  I've watched at least a million of his clay co...             True   \n",
       "49  I will be ready for anything Grigor offers me....             True   \n",
       "50                                             Pierre              NaN   \n",
       "\n",
       "                                              text_bg  Class  \n",
       "0   Аз съм в много добра форма, проведох отличен т...    0.0  \n",
       "1   Всички ме подценяват, но това ще бъде страшна ...    1.0  \n",
       "2   Ако оставим настрана техниката и качествата, и...    1.0  \n",
       "3   Приемам мача с Анди напълно сериозно, изобщо н...    0.0  \n",
       "4   Бях изтласкан на места, където никога не съм б...    1.0  \n",
       "5   Чудесно се, чувствам.\\r\\nДобре дошли в Румъния...    0.0  \n",
       "6   Григор е сериозен съперник.\\r\\nСигурен съм, че...    0.0  \n",
       "7   Идвам, за да убия този човек.\\r\\nНищо не се сл...    0.0  \n",
       "8   С нетърпение очаквам битката с Кубрат Пулев.\\r...    0.0  \n",
       "9   Последният ми двубой беше преди около два месе...    0.0  \n",
       "10  Помня, че бих един румънец.\\r\\nБих го хубаво и...    1.0  \n",
       "11  Пожелавам българите да са с мен и да ми стиска...    1.0  \n",
       "12  Важно е да си концентриран и целенасочен в тов...    1.0  \n",
       "13  Статутът ми на фаворит не ми влияе, почти няма...    1.0  \n",
       "14  Добър е.\\r\\nИма мачове и е опитен.\\r\\nАз обаче...    1.0  \n",
       "15  Ами да, радваме се, че нещата вече са официалн...    1.0  \n",
       "16  Не мисля, че съм аутсайдер в този двубой.\\r\\nМ...    0.0  \n",
       "17  Познавам го, голям и здрав е, бил се е с добри...    1.0  \n",
       "18  Мачът чука на вратата, подготовката тече усиле...    1.0  \n",
       "19  Мога да ви обещая много неща, но истината е, ч...    0.0  \n",
       "20  Тренировъчният лагер почти беше свършил, остав...    1.0  \n",
       "21  С децата съм по-скоро приятел, отколкото строг...    0.0  \n",
       "22  Чувствам се добре.\\r\\nПодготвен съм отлично за...    1.0  \n",
       "23  Преди два дни имах неприятен инцидент на автом...    1.0  \n",
       "24  Здравейте.\\r\\nТук е момента да благодаря на го...    0.0  \n",
       "25  Щастлив съм, че мога да участвам в такава голя...    0.0  \n",
       "26  И на най-великите тенисисти в света се случва ...    1.0  \n",
       "27  В момента се чувствам във форма.\\r\\nНатрупах м...    0.0  \n",
       "28  С Григор напоследък играем често един срещу др...    0.0  \n",
       "29  Ще бъде забавно в понеделник.\\r\\nТой направи с...    0.0  \n",
       "30  В Монте Карло изиграх добър мач срещу Димитров...    1.0  \n",
       "31  Това е нещо голямо не само за мен, а за цяла Б...    1.0  \n",
       "32  Имах добри мачове, но и пропуснах възможности....    1.0  \n",
       "33  Вълнувам се.\\r\\nОчаквам да изляза пред родна п...    1.0  \n",
       "34  Познавам го много добре.\\r\\nИграли сме няколко...    1.0  \n",
       "35  Трябва да очаквам всичко.\\r\\nНямам право да го...    1.0  \n",
       "36  Не мога да преценя дали в началото на мача Дуд...    0.0  \n",
       "37  Сега оценявам и се радвам на всяка една победа...    0.0  \n",
       "38  Ветеран е, ще използва всичко, което има в игр...    1.0  \n",
       "39  Във всеки един мач трябва да си подготвен.\\r\\n...    1.0  \n",
       "40  Пиронкова е много опитна, особено на трева.\\r\\...    1.0  \n",
       "41  Чувството е добро.\\r\\nУсещам, че общо взето иг...    0.0  \n",
       "42  Ще бъде труден двубой, защото Димитров е в мно...    0.0  \n",
       "43  Това беше един от най-силните ми мачове в Авст...    1.0  \n",
       "44  Не мога да кажа, че съм възвърнал формата си.\\...    1.0  \n",
       "45  Той няма как да не вкара всяка топка в корта в...    0.0  \n",
       "46  Всеки път когато играем, Григор е още по-силен...    1.0  \n",
       "47  Знам колко добре мога да играя.\\r\\nДоволен съм...    1.0  \n",
       "48  Гледал съм поне един милион негови мачове на к...    0.0  \n",
       "49  Ще съм готов каквото и да ми предложи Григор.\\...    0.0  \n",
       "50                                                NaN    NaN  "
      ]
     },
     "execution_count": 35,
     "metadata": {},
     "output_type": "execute_result"
    }
   ],
   "source": [
    "df"
   ]
  },
  {
   "cell_type": "markdown",
   "metadata": {},
   "source": [
    "## Part 2: Using a `Pipeline` for proper cross-validation"
   ]
  },
  {
   "cell_type": "markdown",
   "metadata": {},
   "source": [
    "#### with CountVectorizer()"
   ]
  },
  {
   "cell_type": "code",
   "execution_count": 129,
   "metadata": {},
   "outputs": [],
   "source": [
    "# define X and y\n",
    "X = df.text\n",
    "y = df.Class"
   ]
  },
  {
   "cell_type": "code",
   "execution_count": 130,
   "metadata": {},
   "outputs": [],
   "source": [
    "# replace the regex pattern that is used for tokenization\n",
    "from sklearn.feature_extraction.text import CountVectorizer\n",
    "vect = CountVectorizer(min_df = 1,token_pattern=r\"'([a-z ]+)'\")"
   ]
  },
  {
   "cell_type": "code",
   "execution_count": 131,
   "metadata": {},
   "outputs": [],
   "source": [
    "# import and instantiate Multinomial Naive Bayes (with the default parameters)\n",
    "from sklearn.naive_bayes import MultinomialNB\n",
    "nb = MultinomialNB()"
   ]
  },
  {
   "cell_type": "code",
   "execution_count": 132,
   "metadata": {},
   "outputs": [],
   "source": [
    "from sklearn.pipeline import Pipeline\n",
    "pipe = Pipeline([\n",
    "    ('vect', vect),\n",
    "    ('nb', nb),\n",
    "])"
   ]
  },
  {
   "cell_type": "code",
   "execution_count": 133,
   "metadata": {},
   "outputs": [
    {
     "data": {
      "text/plain": [
       "0.54"
      ]
     },
     "execution_count": 133,
     "metadata": {},
     "output_type": "execute_result"
    }
   ],
   "source": [
    "# cross-validate the entire pipeline\n",
    "from sklearn.model_selection import cross_val_score\n",
    "cross_val_score(pipe, X, y, cv=5, scoring='accuracy').mean()"
   ]
  },
  {
   "cell_type": "markdown",
   "metadata": {},
   "source": [
    "#### with TfidfVectorizer"
   ]
  },
  {
   "cell_type": "code",
   "execution_count": 119,
   "metadata": {},
   "outputs": [],
   "source": [
    "from sklearn.feature_extraction.text import TfidfVectorizer"
   ]
  },
  {
   "cell_type": "code",
   "execution_count": 120,
   "metadata": {},
   "outputs": [],
   "source": [
    "vect = TfidfVectorizer(min_df = 1,stop_words='english',token_pattern=r\"'([a-z ]+)'\")"
   ]
  },
  {
   "cell_type": "code",
   "execution_count": 121,
   "metadata": {},
   "outputs": [],
   "source": [
    "# import and instantiate Multinomial Naive Bayes (with the default parameters)\n",
    "from sklearn.naive_bayes import MultinomialNB\n",
    "nb = MultinomialNB()"
   ]
  },
  {
   "cell_type": "code",
   "execution_count": 122,
   "metadata": {},
   "outputs": [],
   "source": [
    "from sklearn.pipeline import Pipeline\n",
    "pipe = Pipeline([\n",
    "    ('vect', vect),\n",
    "    ('nb', nb),\n",
    "])"
   ]
  },
  {
   "cell_type": "code",
   "execution_count": 123,
   "metadata": {},
   "outputs": [
    {
     "data": {
      "text/plain": [
       "0.54"
      ]
     },
     "execution_count": 123,
     "metadata": {},
     "output_type": "execute_result"
    }
   ],
   "source": [
    "# cross-validate the entire pipeline\n",
    "from sklearn.model_selection import cross_val_score\n",
    "cross_val_score(pipe, X, y, cv=5, scoring='accuracy').mean()"
   ]
  },
  {
   "cell_type": "markdown",
   "metadata": {},
   "source": [
    "## Part 3: Text feature selection on whole dataset with countvecotrizer"
   ]
  },
  {
   "cell_type": "code",
   "execution_count": 135,
   "metadata": {},
   "outputs": [],
   "source": [
    "vect = CountVectorizer(min_df = 1,token_pattern=r\"'([a-z ]+)'\")"
   ]
  },
  {
   "cell_type": "code",
   "execution_count": 136,
   "metadata": {},
   "outputs": [
    {
     "data": {
      "text/plain": [
       "<37x14 sparse matrix of type '<class 'numpy.int64'>'\n",
       "\twith 15 stored elements in Compressed Sparse Row format>"
      ]
     },
     "execution_count": 136,
     "metadata": {},
     "output_type": "execute_result"
    }
   ],
   "source": [
    "vect.fit_transform(X_train)"
   ]
  },
  {
   "cell_type": "code",
   "execution_count": 137,
   "metadata": {},
   "outputs": [
    {
     "data": {
      "text/plain": [
       "<13x14 sparse matrix of type '<class 'numpy.int64'>'\n",
       "\twith 0 stored elements in Compressed Sparse Row format>"
      ]
     },
     "execution_count": 137,
     "metadata": {},
     "output_type": "execute_result"
    }
   ],
   "source": [
    "vect.transform(X_test)"
   ]
  },
  {
   "cell_type": "code",
   "execution_count": null,
   "metadata": {},
   "outputs": [],
   "source": [
    "from sklearn.decomposition import PCA\n",
    "from sklearn.preprocessing import StandardScaler\n",
    "\n",
    "scaler = StandardScaler()\n",
    "X_sc = scaler.fit_transform(X)\n",
    "\n",
    "pca = PCA()\n",
    "X_pca = pca.fit_transform(X_sc)\n",
    "X_pca.shape"
   ]
  }
 ],
 "metadata": {
  "kernelspec": {
   "display_name": "Python 3",
   "language": "python",
   "name": "python3"
  },
  "language_info": {
   "codemirror_mode": {
    "name": "ipython",
    "version": 3
   },
   "file_extension": ".py",
   "mimetype": "text/x-python",
   "name": "python",
   "nbconvert_exporter": "python",
   "pygments_lexer": "ipython3",
   "version": "3.6.9"
  }
 },
 "nbformat": 4,
 "nbformat_minor": 4
}
