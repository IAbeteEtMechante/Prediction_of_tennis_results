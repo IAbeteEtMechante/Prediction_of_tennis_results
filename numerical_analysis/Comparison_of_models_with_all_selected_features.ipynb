{
 "cells": [
  {
   "cell_type": "code",
   "execution_count": 51,
   "metadata": {},
   "outputs": [],
   "source": [
    "import glob\n",
    "import numpy as np\n",
    "import pandas as pd\n",
    "import matplotlib.pyplot as plt\n",
    "import seaborn as sns; sns.set()\n",
    "from sklearn.naive_bayes import GaussianNB\n",
    "from sklearn.naive_bayes import MultinomialNB\n",
    "from sklearn import svm\n",
    "from sklearn.metrics import classification_report\n",
    "from sklearn.metrics import accuracy_score\n",
    "from sklearn.metrics import confusion_matrix\n",
    "# from skimage.transform import pyramid_gaussian\n",
    "from sklearn.model_selection import train_test_split\n",
    "from sklearn.metrics import average_precision_score\n",
    "from sklearn.metrics import precision_recall_curve\n",
    "from sklearn.model_selection import GridSearchCV\n",
    "# import matplotlib.pyplot as plt\n",
    "from inspect import signature\n",
    "\n",
    "# print(glob.glob(\"../ILIYAN Master Thesis/Dataset/*\"))\n",
    "\n",
    "%matplotlib inline\n",
    "%precision 2\n",
    "pd.options.display.max_columns = None"
   ]
  },
  {
   "cell_type": "code",
   "execution_count": 52,
   "metadata": {},
   "outputs": [],
   "source": [
    "df_t1_text = pd.read_csv('df_top_1_stem_1.csv')\n",
    "df_t1_t2_text = pd.read_csv('df_top_1_and_2_stem_1.csv')"
   ]
  },
  {
   "cell_type": "code",
   "execution_count": 53,
   "metadata": {},
   "outputs": [],
   "source": [
    "df_t1_structured = pd.read_csv('df_top_1_structured.csv', index_col=0)\n",
    "df_t1_t2_structured = pd.read_csv('df_top_1_and_2_structured.csv', index_col=0)"
   ]
  },
  {
   "cell_type": "code",
   "execution_count": 54,
   "metadata": {},
   "outputs": [],
   "source": [
    "df_t1_structured.drop('Class', axis=1, inplace=True)\n",
    "df_t1_t2_structured.drop('Class', axis=1, inplace=True)"
   ]
  },
  {
   "cell_type": "code",
   "execution_count": 55,
   "metadata": {},
   "outputs": [],
   "source": [
    "df_t1 = pd.concat([df_t1_structured, df_t1_text], axis=1)\n",
    "df_t1t2 = pd.concat([df_t1_t2_structured, df_t1_t2_text], axis=1)"
   ]
  },
  {
   "cell_type": "code",
   "execution_count": 60,
   "metadata": {},
   "outputs": [
    {
     "data": {
      "text/plain": [
       "(50, 72)"
      ]
     },
     "execution_count": 60,
     "metadata": {},
     "output_type": "execute_result"
    }
   ],
   "source": [
    "df_t1.shape"
   ]
  },
  {
   "cell_type": "code",
   "execution_count": 61,
   "metadata": {},
   "outputs": [
    {
     "data": {
      "text/plain": [
       "(50, 126)"
      ]
     },
     "execution_count": 61,
     "metadata": {},
     "output_type": "execute_result"
    }
   ],
   "source": [
    "df_t1t2.shape"
   ]
  },
  {
   "cell_type": "code",
   "execution_count": 62,
   "metadata": {},
   "outputs": [],
   "source": [
    "def draw_confusionmatrix(y_test, y_hat):\n",
    "    plt.figure(figsize=(10,7))\n",
    "    cm = confusion_matrix(y_test, y_hat)\n",
    "    ax = sns.heatmap(cm, annot=True, fmt=\"d\")\n",
    "    plt.ylabel('True label')\n",
    "    plt.xlabel('Predicted label')\n",
    "\n",
    "    acc = accuracy_score(y_test, y_hat)\n",
    "    print(f\"Sum Axis-1 as Classification accuracy: {acc}\")\n",
    "    print('\\n')\n",
    "    print(classification_report(y_test, y_hat))\n",
    "    print('\\n')"
   ]
  },
  {
   "cell_type": "code",
   "execution_count": 66,
   "metadata": {},
   "outputs": [],
   "source": [
    "def gen_train_and_test(df, test_size=0.20, random_state=42):\n",
    "    X = df.loc[:, df.columns != 'Class']\n",
    "    y = df.Class\n",
    "    \n",
    "    X_train, X_test, y_train, y_test = train_test_split(X, y, test_size=test_size, random_state=random_state)\n",
    "    \n",
    "    return X_train, X_test, y_train, y_test"
   ]
  },
  {
   "cell_type": "code",
   "execution_count": 67,
   "metadata": {},
   "outputs": [],
   "source": [
    "def split_train_and_test(X, y, test_size=0.20, random_state=42):\n",
    "    X_train, X_test, y_train, y_test = train_test_split(X, y, test_size=test_size, random_state=random_state)    \n",
    "    return X_train, X_test, y_train, y_test"
   ]
  },
  {
   "cell_type": "code",
   "execution_count": 68,
   "metadata": {},
   "outputs": [],
   "source": [
    "def start_model(df, model):\n",
    "    X_train, X_test, y_train, y_test = gen_train_and_test(df)\n",
    "    model.fit(X_train, y_train)\n",
    "    y_hat = model.predict(X_test)\n",
    "    draw_confusionmatrix(y_test, y_hat)"
   ]
  },
  {
   "cell_type": "markdown",
   "metadata": {},
   "source": [
    "### GaussianNB"
   ]
  },
  {
   "cell_type": "code",
   "execution_count": 69,
   "metadata": {},
   "outputs": [],
   "source": [
    "model = GaussianNB()"
   ]
  },
  {
   "cell_type": "code",
   "execution_count": 70,
   "metadata": {},
   "outputs": [],
   "source": [
    "from sklearn.model_selection import cross_val_score, cross_val_predict\n",
    "from sklearn import metrics\n",
    "def run_cross_validation(df, model, scoring='accuracy', cv=10):\n",
    "    X = df.loc[:, df.columns != 'Class']\n",
    "    y = df.Class\n",
    "    \n",
    "    print(\"avg accuracy:\"+str(np.average(cross_val_score(model, X, y, scoring='accuracy', cv=cv))))\n",
    "    print(\"avg f1:\"+str(np.average(cross_val_score(model, X, y, scoring='f1', cv=cv))))\n",
    "    print(\"avg precision:\"+str(np.average(cross_val_score(model, X, y, scoring='precision', cv=cv))))\n",
    "    print(\"avg recall:\"+str(np.average(cross_val_score(model, X, y, scoring='recall', cv=cv))))\n",
    "    return None"
   ]
  },
  {
   "cell_type": "code",
   "execution_count": 71,
   "metadata": {},
   "outputs": [
    {
     "name": "stdout",
     "output_type": "stream",
     "text": [
      "avg accuracy:0.9400000000000001\n",
      "avg f1:0.9514285714285714\n",
      "avg precision:0.95\n",
      "avg recall:0.9666666666666666\n"
     ]
    }
   ],
   "source": [
    "run_cross_validation(df1_t1, model)"
   ]
  },
  {
   "cell_type": "code",
   "execution_count": 72,
   "metadata": {
    "scrolled": false
   },
   "outputs": [
    {
     "name": "stdout",
     "output_type": "stream",
     "text": [
      "avg accuracy:0.9800000000000001\n",
      "avg f1:0.9857142857142858\n",
      "avg precision:0.975\n",
      "avg recall:1.0\n"
     ]
    }
   ],
   "source": [
    "run_cross_validation(df1_t1t2, model)"
   ]
  },
  {
   "cell_type": "markdown",
   "metadata": {},
   "source": [
    "### SVM"
   ]
  },
  {
   "cell_type": "code",
   "execution_count": 73,
   "metadata": {},
   "outputs": [],
   "source": [
    "def start_grid_cv(df, cv=10, n_jobs=-1):\n",
    "    param_grid = {\n",
    "                  'kernel':('linear', 'rbf'),\n",
    "                  'C':(0.001, 0.01, 0.1, 0.25, 0.5, 0.75, 1, 10),\n",
    "                  'gamma': (0.001, 0.01, 0.1, 1,2,3,'auto'),\n",
    "                  'decision_function_shape':('ovo','ovr'),\n",
    "                  'shrinking':(True,False)\n",
    "                 }\n",
    "    X_train, X_test, y_train, y_test = gen_train_and_test(df)\n",
    "    clf = GridSearchCV(estimator=svm.SVC(), param_grid=param_grid, cv=cv, n_jobs=n_jobs)\n",
    "    clf.fit(X_train, y_train)\n",
    "    \n",
    "    print(\"avg accuracy:\"+str(np.average(cross_val_score(clf, X_train, y_train, scoring='accuracy'))))\n",
    "    print(\"avg f1:\"+str(np.average(cross_val_score(clf, X_train, y_train, scoring='f1'))))\n",
    "    print(\"avg precision:\"+str(np.average(cross_val_score(clf, X_train, y_train, scoring='precision'))))\n",
    "    print(\"avg recall:\"+str(np.average(cross_val_score(clf, X_train, y_train, scoring='recall'))))\n",
    "    \n",
    "    best_params = clf.best_params_\n",
    "    print(best_params)\n",
    "    \n",
    "    return best_params"
   ]
  },
  {
   "cell_type": "code",
   "execution_count": 74,
   "metadata": {},
   "outputs": [
    {
     "name": "stdout",
     "output_type": "stream",
     "text": [
      "avg accuracy:0.7\n",
      "avg f1:0.7318181818181817\n",
      "avg precision:0.6795238095238095\n",
      "avg recall:0.8\n",
      "{'C': 1, 'decision_function_shape': 'ovo', 'gamma': 0.001, 'kernel': 'linear', 'shrinking': True}\n"
     ]
    }
   ],
   "source": [
    "# Duc's\n",
    "params = start_grid_cv(df1_t1, cv=10)"
   ]
  },
  {
   "cell_type": "code",
   "execution_count": 20,
   "metadata": {},
   "outputs": [
    {
     "name": "stdout",
     "output_type": "stream",
     "text": [
      "avg accuracy:0.975\n",
      "avg f1:0.9777777777777779\n",
      "avg precision:0.96\n",
      "avg recall:1.0\n",
      "{'C': 10, 'decision_function_shape': 'ovo', 'gamma': 2, 'kernel': 'rbf', 'shrinking': True}\n"
     ]
    }
   ],
   "source": [
    "# Pierre's"
   ]
  },
  {
   "cell_type": "code",
   "execution_count": 75,
   "metadata": {},
   "outputs": [
    {
     "name": "stdout",
     "output_type": "stream",
     "text": [
      "avg accuracy:0.7\n",
      "avg f1:0.7415584415584415\n",
      "avg precision:0.677142857142857\n",
      "avg recall:0.85\n",
      "{'C': 0.75, 'decision_function_shape': 'ovo', 'gamma': 0.001, 'kernel': 'linear', 'shrinking': True}\n"
     ]
    }
   ],
   "source": [
    "#Duc's\n",
    "params = start_grid_cv(df1_t1t2, cv=10)"
   ]
  },
  {
   "cell_type": "code",
   "execution_count": 21,
   "metadata": {
    "scrolled": false
   },
   "outputs": [
    {
     "name": "stdout",
     "output_type": "stream",
     "text": [
      "avg accuracy:0.95\n",
      "avg f1:0.9555555555555555\n",
      "avg precision:0.96\n",
      "avg recall:0.96\n",
      "{'C': 10, 'decision_function_shape': 'ovo', 'gamma': 1, 'kernel': 'rbf', 'shrinking': True}\n"
     ]
    }
   ],
   "source": [
    "# Pierre's"
   ]
  }
 ],
 "metadata": {
  "kernelspec": {
   "display_name": "Python 3",
   "language": "python",
   "name": "python3"
  },
  "language_info": {
   "codemirror_mode": {
    "name": "ipython",
    "version": 3
   },
   "file_extension": ".py",
   "mimetype": "text/x-python",
   "name": "python",
   "nbconvert_exporter": "python",
   "pygments_lexer": "ipython3",
   "version": "3.7.6"
  }
 },
 "nbformat": 4,
 "nbformat_minor": 4
}
