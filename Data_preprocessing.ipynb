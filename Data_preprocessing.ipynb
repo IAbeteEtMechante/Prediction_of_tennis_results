{
 "cells": [
  {
   "cell_type": "code",
   "execution_count": 1,
   "metadata": {},
   "outputs": [],
   "source": [
    "import pandas as pd\n",
    "from googletrans import Translator"
   ]
  },
  {
   "cell_type": "code",
   "execution_count": 10,
   "metadata": {},
   "outputs": [
    {
     "data": {
      "text/html": [
       "<div>\n",
       "<style scoped>\n",
       "    .dataframe tbody tr th:only-of-type {\n",
       "        vertical-align: middle;\n",
       "    }\n",
       "\n",
       "    .dataframe tbody tr th {\n",
       "        vertical-align: top;\n",
       "    }\n",
       "\n",
       "    .dataframe thead th {\n",
       "        text-align: right;\n",
       "    }\n",
       "</style>\n",
       "<table border=\"1\" class=\"dataframe\">\n",
       "  <thead>\n",
       "    <tr style=\"text-align: right;\">\n",
       "      <th></th>\n",
       "      <th>Unnamed: 0</th>\n",
       "      <th>file_name</th>\n",
       "      <th>label</th>\n",
       "      <th>text</th>\n",
       "    </tr>\n",
       "  </thead>\n",
       "  <tbody>\n",
       "    <tr>\n",
       "      <th>0</th>\n",
       "      <td>0</td>\n",
       "      <td>BG_Box_AleksandarPovetkin_vs_AnthonyDjoshua_NO</td>\n",
       "      <td>NO</td>\n",
       "      <td>Аз съм в много добра форма, проведох отличен т...</td>\n",
       "    </tr>\n",
       "  </tbody>\n",
       "</table>\n",
       "</div>"
      ],
      "text/plain": [
       "   Unnamed: 0                                       file_name label  \\\n",
       "0           0  BG_Box_AleksandarPovetkin_vs_AnthonyDjoshua_NO    NO   \n",
       "\n",
       "                                                text  \n",
       "0  Аз съм в много добра форма, проведох отличен т...  "
      ]
     },
     "execution_count": 10,
     "metadata": {},
     "output_type": "execute_result"
    }
   ],
   "source": [
    "#import the dataset\n",
    "df = pd.read_csv(\"./data/interviews/interviews.csv\")\n",
    "df.head(1)"
   ]
  },
  {
   "cell_type": "code",
   "execution_count": 19,
   "metadata": {},
   "outputs": [
    {
     "data": {
      "text/plain": [
       "Index(['Unnamed: 0', 'file_name', 'label', 'text', 'English'], dtype='object')"
      ]
     },
     "execution_count": 19,
     "metadata": {},
     "output_type": "execute_result"
    }
   ],
   "source": [
    "df.columns"
   ]
  },
  {
   "cell_type": "markdown",
   "metadata": {},
   "source": [
    "## Translate the dataset in English"
   ]
  },
  {
   "cell_type": "code",
   "execution_count": 12,
   "metadata": {},
   "outputs": [],
   "source": [
    "#instantiate the translator and detect the language\n",
    "translator = Translator()\n",
    "df['English'] = df['text'].apply(translator.translate, src='bg', dest='en').apply(getattr, args=('text',))"
   ]
  },
  {
   "cell_type": "markdown",
   "metadata": {},
   "source": [
    "Somehow some lines are translated, but some others are not translated into English:"
   ]
  },
  {
   "cell_type": "code",
   "execution_count": 16,
   "metadata": {
    "scrolled": true
   },
   "outputs": [
    {
     "data": {
      "text/plain": [
       "'Тренировъчният лагер почти беше свършил, оставаше ми само още една седмица спаринги.\\r\\nКогато се качи'"
      ]
     },
     "execution_count": 16,
     "metadata": {},
     "output_type": "execute_result"
    }
   ],
   "source": [
    "df.loc[20,'English'][:100]"
   ]
  },
  {
   "cell_type": "code",
   "execution_count": 20,
   "metadata": {},
   "outputs": [],
   "source": [
    "from ipyannotate import annotate\n",
    "def display_record(record):\n",
    "    display(record[1].drop(['Unnamed: 0', 'file_name', 'label', 'text']))\n",
    "\n",
    "data = df.iterrows()\n",
    "\n",
    "\n",
    "annotation = annotate(data, display=display_record)\n",
    "ok, error, next, back = annotation.toolbar.buttons"
   ]
  },
  {
   "cell_type": "code",
   "execution_count": 21,
   "metadata": {},
   "outputs": [
    {
     "data": {
      "application/vnd.jupyter.widget-view+json": {
       "model_id": "fea03fff27844991abc193d0946e2bfb",
       "version_major": 2,
       "version_minor": 0
      },
      "text/plain": [
       "Annotation(canvas=OutputCanvas(outputs=({'output_type': 'display_data', 'data': {'text/plain': 'English    I a…"
      ]
     },
     "metadata": {},
     "output_type": "display_data"
    }
   ],
   "source": [
    "display(annotation)"
   ]
  },
  {
   "cell_type": "code",
   "execution_count": 54,
   "metadata": {},
   "outputs": [],
   "source": [
    "!mkdir -p data/interviews/manually_translated/bg\n",
    "df['Manually_Labeled'] = [task.value for task in annotation.tasks]\n",
    "for index, row in df.loc[df.Manually_Labeled == 0].iterrows():\n",
    "    with open('data/interviews/manually_translated/bg/interview_'+ str(index) + '.txt', 'w') as f:\n",
    "        f.write(row['English'])"
   ]
  },
  {
   "cell_type": "code",
   "execution_count": 59,
   "metadata": {},
   "outputs": [],
   "source": [
    "#we translate those interviews manually and put them in this directory:\n",
    "!mkdir -p data/interviews/manually_translated/en\n",
    "\n",
    "#then we change in the dataframe\n",
    "for index, row in df.loc[df.Manually_Labeled == 0].iterrows():\n",
    "    with open('data/interviews/manually_translated/en/interview_'+ str(index) + '.txt', 'r') as f:\n",
    "        df.loc[index, 'English'] = f.read()"
   ]
  },
  {
   "cell_type": "code",
   "execution_count": 64,
   "metadata": {},
   "outputs": [],
   "source": [
    "df.to_csv(\"./data/interviews/interviews_en.csv\")"
   ]
  }
 ],
 "metadata": {
  "kernelspec": {
   "display_name": "Python 3",
   "language": "python",
   "name": "python3"
  },
  "language_info": {
   "codemirror_mode": {
    "name": "ipython",
    "version": 3
   },
   "file_extension": ".py",
   "mimetype": "text/x-python",
   "name": "python",
   "nbconvert_exporter": "python",
   "pygments_lexer": "ipython3",
   "version": "3.6.9"
  }
 },
 "nbformat": 4,
 "nbformat_minor": 4
}
